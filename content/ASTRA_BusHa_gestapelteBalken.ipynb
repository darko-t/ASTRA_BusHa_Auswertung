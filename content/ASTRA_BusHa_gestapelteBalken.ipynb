{
  "metadata": {
    "kernelspec": {
      "name": "python",
      "display_name": "Python (Pyodide)",
      "language": "python"
    },
    "language_info": {
      "codemirror_mode": {
        "name": "python",
        "version": 3
      },
      "file_extension": ".py",
      "mimetype": "text/x-python",
      "name": "python",
      "nbconvert_exporter": "python",
      "pygments_lexer": "ipython3",
      "version": "3.8"
    }
  },
  "nbformat_minor": 5,
  "nbformat": 4,
  "cells": [
    {
      "id": "d9a6e3f7-4bde-4478-a136-30d2dde61378",
      "cell_type": "code",
      "source": "import pandas as pd\nimport matplotlib.pyplot as plt\nimport numpy as np\n\n# Einlesen\ndf = pd.read_csv(\"ASTRA-Bushaltestellen.csv\", delimiter=';')\n\n# Whitespace & Kleinbuchstaben\ndf[\"hmin ZAR\"] = df[\"hmin ZAR\"].astype(str).str.strip()\ndf[\"Filiale\"] = df[\"Filiale\"].astype(str).str.strip()\ndf[\"Markierung Taktilo-Visuel\"] = df[\"Markierung Taktilo-Visuel\"].astype(str).str.strip().str.lower()\n\n# Zählen\ngesamt = df.groupby([\"hmin ZAR\", \"Filiale\"]).size().unstack(fill_value=0)\nnein = df[df[\"Markierung Taktilo-Visuel\"] == \"ja\"]\nnein_counts = nein.groupby([\"hmin ZAR\", \"Filiale\"]).size().unstack(fill_value=0).reindex_like(gesamt).fillna(0).astype(int)\n\n# Farbdefinitionen\nfarben_gesamt = {\n    \"F1\": \"#F4C6C2\",\n    \"F2\": \"#FAE5A4\",\n    \"F3\": \"#A2DEC3\",\n    \"F4\": \"#C4D7F7\",\n    \"F5\": \"#DBB8E8\"\n}\nfarben_nein = {\n    \"F1\": \"#E67970\",\n    \"F2\": \"#F7CB4D\",\n    \"F3\": \"#41B375\",\n    \"F4\": \"#7BAAF7\",\n    \"F5\": \"#BA67C8\"\n}\n\n# Plot\nfig, axes = plt.subplots(nrows=len(gesamt.index), figsize=(12, 2.8 * len(gesamt.index)), sharex=True)\nif len(gesamt.index) == 1:\n    axes = [axes]\n\nfor i, hmin in enumerate(gesamt.index):\n    ax = axes[i]\n    labels = gesamt.columns\n    x = np.arange(len(labels))\n    width = 0.6\n\n    for j, filiale in enumerate(labels):\n        total_val = gesamt.loc[hmin, filiale]\n        nein_val = nein_counts.loc[hmin, filiale]\n\n        # Gesamt (hell)\n        ax.bar(x[j], total_val, width=width, color=farben_gesamt.get(filiale, \"lightgray\"), edgecolor=\"black\")\n\n        # nein (dunkel)\n        if nein_val > 0:\n            ax.bar(x[j], nein_val, width=width, color=farben_nein.get(filiale, \"tomato\"))\n\n        # Beschriftungen\n        ax.text(x[j], total_val + 0.2, str(total_val), ha='center', va='bottom', fontsize=9)\n        if nein_val > 0:\n            ax.text(x[j], nein_val / 2, str(nein_val), ha='center', va='center', fontsize=9, color='white')\n\n    ax.set_ylabel(f\"Kantenhöhe {hmin}\")\n    ax.set_xticks(x)\n    ax.set_xticklabels(labels)\n    ax.set_ylim(0, max(gesamt.loc[hmin]) * 1.25)\n\nplt.suptitle(\"Haltestellen pro Filiale. Hell = Gesamt, Dunkel = mit Taktilo-visuelle Markierung\", fontsize=14)\nplt.tight_layout(rect=[0, 0, 1, 0.95])\nfig.savefig('filialen_Markierung.jpg', dpi=300)  # dpi für gute Qualität\nplt.show()\n",
      "metadata": {
        "trusted": true
      },
      "outputs": [],
      "execution_count": null
    }
  ]
}